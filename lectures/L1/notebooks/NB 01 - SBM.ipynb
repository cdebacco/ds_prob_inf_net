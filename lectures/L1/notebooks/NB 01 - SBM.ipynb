{
 "cells": [
  {
   "cell_type": "markdown",
   "id": "829a333c-75cf-48c2-88a5-0ecbefacc509",
   "metadata": {},
   "source": [
    "# L1: stochastic block model and community detection"
   ]
  },
  {
   "cell_type": "code",
   "execution_count": null,
   "id": "111bcd99-22e9-4b7c-88f8-fe3219a7fd66",
   "metadata": {},
   "outputs": [],
   "source": [
    "%load_ext autoreload\n",
    "%autoreload 2"
   ]
  },
  {
   "cell_type": "code",
   "execution_count": null,
   "id": "57bf21c4-bca0-421f-8c44-2e565c3c3590",
   "metadata": {},
   "outputs": [],
   "source": [
    "import numpy as np\n",
    "import pandas as pd\n",
    "import networkx as nx\n",
    "import time"
   ]
  },
  {
   "cell_type": "code",
   "execution_count": null,
   "id": "71f2f442-f113-4735-bf94-b05d91feec56",
   "metadata": {},
   "outputs": [],
   "source": [
    "import sys\n",
    "sys.path.append('../../../src/')\n",
    "import tools as tl\n",
    "import plot as viz\n",
    "import pysbm"
   ]
  },
  {
   "cell_type": "code",
   "execution_count": null,
   "id": "28f7d6bc-ed75-4214-a153-b0f5580dbddd",
   "metadata": {},
   "outputs": [],
   "source": [
    "import matplotlib.pyplot as plt\n",
    "from matplotlib.colors import ListedColormap\n",
    "\n",
    "colormap = plt.cm.tab20\n",
    "colors = {i: colormap(i) for i in range(20)}"
   ]
  },
  {
   "cell_type": "code",
   "execution_count": null,
   "id": "20e5f6b2-9409-48df-8b88-2690944a7170",
   "metadata": {},
   "outputs": [],
   "source": [
    "from probinet.input.loader import build_adjacency_from_file\n",
    "from probinet.input.stats import print_graph_stats\n",
    "from probinet.models.mtcov import MTCOV\n",
    "from probinet.visualization.plot import plot_hard_membership, plot_soft_membership\n"
   ]
  },
  {
   "cell_type": "code",
   "execution_count": null,
   "id": "daf121a3-9596-4103-b8bc-603928245c43",
   "metadata": {},
   "outputs": [],
   "source": [
    "outdir = '../figures/'\n",
    "lecture_id = 1"
   ]
  },
  {
   "cell_type": "code",
   "execution_count": null,
   "id": "856ca535-63c6-4f14-96be-516d2d4c01f0",
   "metadata": {},
   "outputs": [],
   "source": [
    "seed = 10\n",
    "prng = np.random.RandomState(seed)"
   ]
  },
  {
   "cell_type": "markdown",
   "id": "d35c50f1-c6d1-46b7-8d74-fa5506cd0184",
   "metadata": {},
   "source": [
    "# 1. Trade network\n",
    "Let's consider a trade network. You can find various examples online, in the website of FAO or of the World Trade Organization (WTO).   \n",
    "In this example we take a network downloaded from WTO, but feel free to use your favorite network.  \n",
    "If you want to use the same dataset in this example: below you find the instructions to download the data."
   ]
  },
  {
   "cell_type": "markdown",
   "id": "ce0d46a4-5516-4e39-8392-9b8d48a56223",
   "metadata": {},
   "source": [
    "## 1.1 Download the [raw data](https://ttd.wto.org/en/download/six-digit?years[0]=2024&indicator=exports&products[0]=271600) locally in some folder.  \n",
    "    Filter by:\n",
    "\n",
    "       a. Year = 2024\n",
    "       b. Items = Electrical energy (271600)\n"
   ]
  },
  {
   "cell_type": "markdown",
   "id": "a39c65e6-1f68-46ae-af80-35de11d1a90f",
   "metadata": {},
   "source": [
    "## 1.2 Preprocess the data\n",
    "To clean and build a simple edge list "
   ]
  },
  {
   "cell_type": "code",
   "execution_count": null,
   "id": "3b32902c-20a9-48b2-b39b-4c78d6e54d61",
   "metadata": {},
   "outputs": [],
   "source": [
    "indir = '../../../data/input/wto/'\n",
    "filename = 'adb_exports_08_04_2025_13_57_41.csv'\n",
    "infile = f\"{indir}{filename}\"\n",
    "\n",
    "df0 = pd.read_csv(infile)\n",
    "df0.head(n=3)"
   ]
  },
  {
   "cell_type": "code",
   "execution_count": null,
   "id": "9b3bfb04-4f24-4d28-b236-5c8fc7407017",
   "metadata": {},
   "outputs": [],
   "source": [
    "df0.product_code.unique()"
   ]
  },
  {
   "cell_type": "markdown",
   "id": "7bfe1edc-f44c-4407-a23f-5540d07ba8d7",
   "metadata": {
    "execution": {
     "iopub.execute_input": "2025-04-08T09:11:21.633688Z",
     "iopub.status.busy": "2025-04-08T09:11:21.633060Z",
     "iopub.status.idle": "2025-04-08T09:11:21.652406Z",
     "shell.execute_reply": "2025-04-08T09:11:21.651892Z",
     "shell.execute_reply.started": "2025-04-08T09:11:21.633652Z"
    }
   },
   "source": [
    "### 1.2.1 Filter nodes and discretize weights"
   ]
  },
  {
   "cell_type": "code",
   "execution_count": null,
   "id": "a7fad736-6eae-445d-8e68-09b801d39218",
   "metadata": {},
   "outputs": [],
   "source": [
    "cond1 = (df0.reporter_name != 'World') & (df0.partner_name != 'World')\n",
    "cond2 = df0.product_code == df0.product_code.unique()[0] # keep only one type of good\n",
    "mask = cond1 & cond2\n",
    "df0 = df0[mask]\n",
    "len(df0)"
   ]
  },
  {
   "cell_type": "markdown",
   "id": "a0d9e7b2-4fd5-480c-9be1-498b6a1640f9",
   "metadata": {},
   "source": [
    "#### Top exporters"
   ]
  },
  {
   "cell_type": "code",
   "execution_count": null,
   "id": "6b46bfaa-0cbf-4a5e-86ba-4456e8e905cb",
   "metadata": {},
   "outputs": [],
   "source": [
    "df0.groupby(by='reporter_name')['value'].agg('sum').sort_values(ascending=False).iloc[:10]"
   ]
  },
  {
   "cell_type": "markdown",
   "id": "77868591-b0a9-4328-b024-6952e37721e5",
   "metadata": {},
   "source": [
    "#### Top importers"
   ]
  },
  {
   "cell_type": "code",
   "execution_count": null,
   "id": "4268bcf6-1ad3-4bba-bec6-8fd53a90da28",
   "metadata": {},
   "outputs": [],
   "source": [
    "df0.groupby(by='partner_name')['value'].agg('sum').sort_values(ascending=False).iloc[:10]"
   ]
  },
  {
   "cell_type": "markdown",
   "id": "916279f1-7b31-419f-a676-0f07ca19943a",
   "metadata": {},
   "source": [
    "#### Top links"
   ]
  },
  {
   "cell_type": "code",
   "execution_count": null,
   "id": "05865ca9-31cd-46d9-a963-35c1e60b925a",
   "metadata": {},
   "outputs": [],
   "source": [
    "df0.sort_values(by='value',ascending=False).iloc[:10][['reporter_name','partner_name','value']]"
   ]
  },
  {
   "cell_type": "code",
   "execution_count": null,
   "id": "43a51ddd-103d-48bd-bfa4-0b5c1c2eb32e",
   "metadata": {},
   "outputs": [],
   "source": [
    "senders = df0['reporter_name'].unique()\n",
    "receivers = df0['partner_name'].unique()\n",
    "nodes = set(senders).union(set(receivers))\n",
    "N = len(nodes)\n",
    "N"
   ]
  },
  {
   "cell_type": "markdown",
   "id": "dab638b1-f2e8-4620-9520-27b97e51b911",
   "metadata": {
    "execution": {
     "iopub.execute_input": "2025-04-08T09:15:09.584196Z",
     "iopub.status.busy": "2025-04-08T09:15:09.583740Z",
     "iopub.status.idle": "2025-04-08T09:15:09.620579Z",
     "shell.execute_reply": "2025-04-08T09:15:09.620009Z",
     "shell.execute_reply.started": "2025-04-08T09:15:09.584166Z"
    }
   },
   "source": [
    "We make all weights discrete, as we want to focus on the _existence_ of relationships (not on their strength)"
   ]
  },
  {
   "cell_type": "code",
   "execution_count": null,
   "id": "e2990866-66d1-42b4-98ba-733d8b597e57",
   "metadata": {},
   "outputs": [],
   "source": [
    "df0['weight']  = 1"
   ]
  },
  {
   "cell_type": "markdown",
   "id": "4af148f8-c615-402b-a5c1-54dd011be22c",
   "metadata": {},
   "source": [
    "### 1.2.2 Combine repeated edges and make undirected\n",
    "Some pairs of countries may appear more than once, we need to combine them into 1 edge.  \n",
    "We are also discarding edge directions."
   ]
  },
  {
   "cell_type": "code",
   "execution_count": null,
   "id": "83ad3fc3-f489-48c9-ad9d-91cb27331f05",
   "metadata": {},
   "outputs": [],
   "source": [
    "source = 'reporter_name'\n",
    "target = 'partner_name'\n",
    "weight= 'weight'"
   ]
  },
  {
   "cell_type": "code",
   "execution_count": null,
   "id": "fc62c996-55a3-4dce-a1a1-d57c9977b067",
   "metadata": {},
   "outputs": [],
   "source": [
    "df_reverse = pd.DataFrame({source: df0[target], target: df0[source], weight: df0[weight]})\n",
    "df = pd.concat([df0, df_reverse])\n",
    "\n",
    "df = df.drop_duplicates()\n",
    "df = df.groupby(by=[source, target]).aggregate({weight: 'sum'}).reset_index()\n",
    "df['weight']  = 1"
   ]
  },
  {
   "cell_type": "code",
   "execution_count": null,
   "id": "f619318f-a3ae-49e2-861c-31247736d2cd",
   "metadata": {},
   "outputs": [],
   "source": [
    "print(f\"E = {len(df)}\")\n",
    "df.head()"
   ]
  },
  {
   "cell_type": "markdown",
   "id": "e4358a72-8335-47d9-aae1-583ac1c45945",
   "metadata": {},
   "source": [
    "### 1.2.3 Keep largest connected component"
   ]
  },
  {
   "cell_type": "code",
   "execution_count": null,
   "id": "e32f1272-c43c-4da1-9779-13652efa0092",
   "metadata": {},
   "outputs": [],
   "source": [
    "graph = nx.from_pandas_edgelist(df,source=source,target=target,\n",
    "                               edge_attr=weight,create_using=nx.Graph)\n",
    "\n",
    "Gcc = sorted(nx.connected_components(graph), key=len, reverse=True)\n",
    "graph = graph.subgraph(Gcc[0])\n",
    "\n",
    "nodes = list(graph.nodes())\n",
    "nodes.sort()\n",
    "\n",
    "cond1 = df[source].isin(nodes)\n",
    "cond2 = df[target].isin(nodes)\n",
    "mask = cond1 & cond2\n",
    "\n",
    "df = df[mask]\n",
    "len(nodes)"
   ]
  },
  {
   "cell_type": "code",
   "execution_count": null,
   "id": "c6c42b12-ab38-436d-99e3-bed01745c92b",
   "metadata": {},
   "outputs": [],
   "source": [
    "graph = nx.from_pandas_edgelist(df,source='reporter_name',target='partner_name',\n",
    "                               edge_attr='weight',create_using=nx.Graph)\n",
    "Gcc = sorted(nx.connected_components(graph), key=len, reverse=True)\n",
    "assert len(Gcc[0]) == len(nodes)"
   ]
  },
  {
   "cell_type": "markdown",
   "id": "c51f16b6-8484-4879-bd42-d008dbc96b27",
   "metadata": {},
   "source": [
    "### 1.2.4 Save into a file for future use"
   ]
  },
  {
   "cell_type": "code",
   "execution_count": null,
   "id": "6ac1df1f-562e-463b-8e3c-e16cd159f510",
   "metadata": {},
   "outputs": [],
   "source": [
    "outdir = '../../../data/output/wto/'\n",
    "filename = 'wto_aob.csv'\n",
    "\n",
    "tl.save_df_to_file(df,outdir=outdir,filename=filename)"
   ]
  },
  {
   "cell_type": "code",
   "execution_count": null,
   "id": "1af4503d-fd05-48b6-92ab-19b36f6cc4d7",
   "metadata": {},
   "outputs": [],
   "source": [
    "!head ../../../data/outdir/wto/wto_aob.csv"
   ]
  },
  {
   "cell_type": "markdown",
   "id": "62cc9c8d-5240-4beb-98e2-a2de7502db56",
   "metadata": {},
   "source": [
    "### 1.2.5 Extract adjacency matrix Y\n",
    "We can arrange the dataset into an adjacency matrix, the main input data"
   ]
  },
  {
   "cell_type": "markdown",
   "id": "7ae5aa6d-7abd-46e2-bba1-05bfd9326017",
   "metadata": {
    "execution": {
     "iopub.execute_input": "2025-04-08T09:42:55.016293Z",
     "iopub.status.busy": "2025-04-08T09:42:55.015548Z",
     "iopub.status.idle": "2025-04-08T09:42:55.062869Z",
     "shell.execute_reply": "2025-04-08T09:42:55.062299Z",
     "shell.execute_reply.started": "2025-04-08T09:42:55.016224Z"
    }
   },
   "source": [
    "We can use `probinet` for this, which also contains algorithms to run community detection and other inference tasks"
   ]
  },
  {
   "cell_type": "code",
   "execution_count": null,
   "id": "2ac0abd7-b0fc-46a2-8044-bb19f352d7e1",
   "metadata": {},
   "outputs": [],
   "source": [
    "undirected = True\n",
    "force_dense = True\n",
    "binary = True\n",
    "data = build_adjacency_from_file(\n",
    "    f\"{outdir}{filename}\",\n",
    "    ego=source,\n",
    "    alter=target,\n",
    "    sep=\",\",\n",
    "    undirected=undirected,\n",
    "    force_dense=force_dense,\n",
    "    binary=binary,\n",
    "    header=0,\n",
    ")\n",
    "# Print the names of the coordinates in the namedtuple gdata\n",
    "print(data._fields)"
   ]
  },
  {
   "cell_type": "markdown",
   "id": "1c256dd5-3a37-42d8-a9f5-8fa0d4447c27",
   "metadata": {},
   "source": [
    "Check that there are no missing nodes from the original dataframe"
   ]
  },
  {
   "cell_type": "code",
   "execution_count": null,
   "id": "95bc115d-14de-47f8-b027-cd7fc32dd486",
   "metadata": {},
   "outputs": [],
   "source": [
    "missing_nodes = set(nodes).difference(set(data.graph_list[0].nodes()))\n",
    "assert len(missing_nodes) == 0, f\"{df[(df[source].isin(missing_nodes)) | (df[target].isin(missing_nodes))]}\""
   ]
  },
  {
   "cell_type": "code",
   "execution_count": null,
   "id": "1ce8928f-d9ac-4bbb-b0ce-ac03614d023f",
   "metadata": {},
   "outputs": [],
   "source": [
    "Y = data.adjacency_tensor\n",
    "Y.shape, len(nodes)"
   ]
  },
  {
   "cell_type": "code",
   "execution_count": null,
   "id": "a6242f9d-a374-45ba-83cb-09609be14b7d",
   "metadata": {},
   "outputs": [],
   "source": [
    "plt.figure(figsize=(18,6))\n",
    "\n",
    "nmax = 500\n",
    "node_order = np.argsort(-Y[0].sum(axis=1))\n",
    "viz.plot_matrix(Y,node_order=node_order[:nmax],title=f\"Y\")\n",
    "\n",
    "plt.tight_layout()"
   ]
  },
  {
   "cell_type": "markdown",
   "id": "a1ee6e3b-b8a9-4879-8d9d-8a5448be88a7",
   "metadata": {},
   "source": [
    "Check for isolated nodes"
   ]
  },
  {
   "cell_type": "code",
   "execution_count": null,
   "id": "ad5fa592-eac1-4317-b7ab-bd23deab5624",
   "metadata": {},
   "outputs": [],
   "source": [
    "degree = np.count_nonzero(Y[0],axis=1) # number of neighbors\n",
    "non_isolates = np.count_nonzero(degree)\n",
    "print(f\"There are {non_isolates} non-isolated nodes over N = {len(data.nodes)}\")"
   ]
  },
  {
   "cell_type": "markdown",
   "id": "ddcdf47f-82e7-42a7-8674-d61768e0786c",
   "metadata": {},
   "source": [
    "Check basic network statistics"
   ]
  },
  {
   "cell_type": "code",
   "execution_count": null,
   "id": "54ece87c-2bf3-4b44-8ee6-de0b1a8cf60f",
   "metadata": {},
   "outputs": [],
   "source": [
    "G = data.graph_list\n",
    "print_graph_stats(G)"
   ]
  },
  {
   "cell_type": "markdown",
   "id": "680e87c1-9bd5-409e-ad83-01834cdcad90",
   "metadata": {},
   "source": [
    "## 2. Run community detection\n",
    "\n",
    "We use the following algorithms:\n",
    "- [`Louvain`](https://doi.org/10.1088/1742-5468/2008/10/P10008): deterministic algorithm, based on modularity maximization\n",
    "   - Blondel V.D. et al. _Fast unfolding of communities in large networks_. J. Stat. Mech 10008, 1-12, 2008\n",
    "- [`MultiTensor`](https://doi.org/10.1103/PhysRevE.95.042317) (MT): probabilistic algorithm, based on tensor factorization, MLE\n",
    "   - De Bacco C., Power E.A., Larremore D.B. and Moore C. _Community detection, link prediction, and layer interdependence in multilayer networks_. Physical Review E, 95(4): 042317, 2017\n",
    "- [`NPDC`](https://doi.org/10.1103/PhysRevE.95.012317 ): probabilistic algorithm, based on a non-parametric model, degree-corrected, Bayesian\n",
    "    - Peixoto TP. _Nonparametric Bayesian inference of the microcanonical stochastic block model_. Physical Review E 95(1):012317, 2017 \n",
    "- [`MTCOV`](https://doi.org/10.1038/s41598-020-72626-y): probabilistic algorithm, based on tensor factorization. Similar to MT, but takes in input covariates. We give in input as covariate the result of another algorithm, to bias the result towards that local optimum\n",
    "   - Contisciani M., Power E.A. and De Bacco C. _Community detection with node attributes in multilayer networks_. Scientific reports, 10(1):15736, 2020."
   ]
  },
  {
   "cell_type": "code",
   "execution_count": null,
   "id": "3fc43f36-a6c6-4993-93de-310dedb7f1f3",
   "metadata": {},
   "outputs": [],
   "source": [
    "u  = {} # here we store the membership vector for each algorithm"
   ]
  },
  {
   "cell_type": "markdown",
   "id": "bdcee681-4e49-40e8-b2c3-d3d3d227bae6",
   "metadata": {
    "execution": {
     "iopub.execute_input": "2025-04-08T13:04:38.350728Z",
     "iopub.status.busy": "2025-04-08T13:04:38.346014Z",
     "iopub.status.idle": "2025-04-08T13:04:38.383158Z",
     "shell.execute_reply": "2025-04-08T13:04:38.382469Z",
     "shell.execute_reply.started": "2025-04-08T13:04:38.350585Z"
    }
   },
   "source": [
    "To warmup, we use the Louvain algorithm, included in `networkx`"
   ]
  },
  {
   "cell_type": "markdown",
   "id": "da7056b5-0972-46ca-b4e3-51f7b1a51bde",
   "metadata": {},
   "source": [
    "Setup variables for plotting"
   ]
  },
  {
   "cell_type": "code",
   "execution_count": null,
   "id": "ef368d7e-6e45-4f8f-8edb-1de4567a207d",
   "metadata": {},
   "outputs": [],
   "source": [
    "ms = 100\n",
    "# node_size = [np.log(graph.degree[i]) * ms + 100 for i in data.nodes]\n",
    "# position = nx.spring_layout(data.graph_list[0], iterations=100, seed = seed)\n",
    "\n",
    "node_size = [graph.degree[i] * ms + 20 for i in data.nodes]\n",
    "position = tl.get_custom_node_positions(data.graph_list[0])"
   ]
  },
  {
   "cell_type": "markdown",
   "id": "1c5cd385-b2b0-4254-9537-22b5cc362a6b",
   "metadata": {},
   "source": [
    "Visualize the network"
   ]
  },
  {
   "cell_type": "code",
   "execution_count": null,
   "id": "4fa1a989-fd60-4714-88ed-04e5c2292049",
   "metadata": {},
   "outputs": [],
   "source": [
    "plot_labels = False\n",
    "filename0 = f'WTO_network_{plot_labels}'\n",
    "node_labels = {}\n",
    "for n,d in list(data.graph_list[0].degree()):\n",
    "    if d > 2: node_labels[n] = n\n",
    "        \n",
    "plt.figure(figsize=(12,10))\n",
    "\n",
    "nx.draw_networkx_nodes(data.graph_list[0],position, node_size=node_size, node_color=viz.default_colors_dict['blue'], edgecolors=viz.default_colors_dict['dark_grey'])\n",
    "if plot_labels == True:\n",
    "    nx.draw_networkx_labels(data.graph_list[0],position, font_size=14, alpha=0.8, labels=node_labels)\n",
    "nx.draw_networkx_edges(data.graph_list[0],pos=position,width=0.1)\n",
    "# plt.title(p)\n",
    "plt.axis('off')\n",
    "\n",
    "plt.tight_layout()\n",
    "\n",
    "filename = tl.get_filename(filename0,lecture_id=lecture_id)\n",
    "outdir = \"../figures/\"\n",
    "tl.savefig(plt,outfile = filename,outdir = outdir)\n",
    "\n",
    "# plt.show()"
   ]
  },
  {
   "cell_type": "markdown",
   "id": "dceb62f9-8465-4b50-98f1-f9f1b9f14ca5",
   "metadata": {},
   "source": [
    "### 2.1 Louvain"
   ]
  },
  {
   "cell_type": "code",
   "execution_count": null,
   "id": "03f48aa4-639c-43e2-a330-e1e2970f1ed7",
   "metadata": {},
   "outputs": [],
   "source": [
    "algo = 'louvain'\n",
    "def from_louvain_to_u(louvain: list) -> np.ndarray:\n",
    "    '''\n",
    "    Builds one-hot encoded vector of dimension k=# groups\n",
    "    '''\n",
    "    N = sum([len(s) for s in louvain])\n",
    "    K = len(louvain)\n",
    "    u = np.zeros((N,K))\n",
    "    for k, partition in enumerate(louvain):\n",
    "        p = np.array(list(partition))\n",
    "        u[p,k] = 1\n",
    "    assert np.all(u.sum(axis=1)==1)\n",
    "    return u\n",
    "\n",
    "G = nx.from_numpy_array(Y[0],edge_attr=weight)\n",
    "G.number_of_nodes(), G.number_of_edges()\n",
    "\n",
    "seed = 10\n",
    "resolution = 1.5 # the higher, the more and smaller the communities\n",
    "louvain = nx.community.louvain_communities(G, seed=seed,weight=weight,resolution=resolution)\n",
    "\n",
    "u[algo] = from_louvain_to_u(louvain)\n",
    "print(u[algo].shape)"
   ]
  },
  {
   "cell_type": "code",
   "execution_count": null,
   "id": "3b6a8267-ac29-4f30-8117-80e7001146f5",
   "metadata": {},
   "outputs": [],
   "source": [
    "communities = {\"u\": np.argmax(u[algo], axis=1)}\n",
    "_ = plot_hard_membership(data.graph_list[0], communities, position, node_size, colors, viz.edge_color)"
   ]
  },
  {
   "cell_type": "markdown",
   "id": "dbe46af9-225e-4bf2-9cde-0e1cd1dcbbea",
   "metadata": {},
   "source": [
    "### 2.2 MultiTensor"
   ]
  },
  {
   "cell_type": "markdown",
   "id": "8083d365-72ef-42ca-8942-5d3ace313d70",
   "metadata": {},
   "source": [
    "Import results (not run here). \n",
    "If you want to run yourself, [here](https://github.com/MPI-IS/multitensor) is the code"
   ]
  },
  {
   "cell_type": "code",
   "execution_count": null,
   "id": "71b5c3ab-4cc4-4728-abc9-b90a17fac00c",
   "metadata": {},
   "outputs": [],
   "source": [
    "K = 8"
   ]
  },
  {
   "cell_type": "code",
   "execution_count": null,
   "id": "6b0ba4bd-ca6b-4ca6-8f1a-084c441bca34",
   "metadata": {},
   "outputs": [],
   "source": [
    "algo = 'mt'\n",
    "infile = f'../../../data/input/wto_theta_mt_K8.npz'\n",
    "theta = np.load(infile)\n",
    "u[algo] = theta['u']"
   ]
  },
  {
   "cell_type": "code",
   "execution_count": null,
   "id": "59267735-7aec-4a86-96f9-f83a8f9188f9",
   "metadata": {},
   "outputs": [],
   "source": [
    "communities = {\"u\": np.argmax(u[algo], axis=1)}\n",
    "_ = plot_hard_membership(data.graph_list[0], communities, position, node_size, colors, viz.edge_color)"
   ]
  },
  {
   "cell_type": "code",
   "execution_count": null,
   "id": "98a004fa-044d-4b4e-b291-1077e67a9a4a",
   "metadata": {},
   "outputs": [],
   "source": [
    "communities = {\"u\": u[algo]}\n",
    "_ = plot_soft_membership(data.graph_list[0], communities, position, [0.1 * s for s in node_size], colors, viz.edge_color)"
   ]
  },
  {
   "cell_type": "markdown",
   "id": "aaab49b9-7b14-40db-9e94-e0d260906fd2",
   "metadata": {},
   "source": [
    "### 2.3 Non-parametric DC\n",
    "For this, we use the package `pysbm`\n",
    "- Clone the github repository at https://github.com/funket/pysbm and save it in a local folder"
   ]
  },
  {
   "cell_type": "code",
   "execution_count": null,
   "id": "c001bdaf-4adb-45dd-856f-5052a286f57f",
   "metadata": {},
   "outputs": [],
   "source": [
    "K = 8\n",
    "N_real = 20"
   ]
  },
  {
   "cell_type": "code",
   "execution_count": null,
   "id": "57630cf7-ef39-4c20-b487-76f4a0fd805e",
   "metadata": {},
   "outputs": [],
   "source": [
    "degree_corrected_objective_function = pysbm.DegreeCorrectedUnnormalizedLogLikelyhood(is_directed=False)"
   ]
  },
  {
   "cell_type": "code",
   "execution_count": null,
   "id": "1aed30b2-ff80-40aa-8e25-812347df7c64",
   "metadata": {},
   "outputs": [],
   "source": [
    "algo = 'npdc'\n",
    "best_objective = -1000000\n",
    "best_partition_standard_NPDC = None\n",
    "for r in range(N_real):\n",
    "    degree_corrected_partition = pysbm.NxPartition(graph=data.graph_list[0],number_of_blocks=K)\n",
    "    degree_corrected_inference = pysbm.PeixotoInference(data.graph_list[0], degree_corrected_objective_function, degree_corrected_partition)\n",
    "    degree_corrected_inference.infer_stochastic_block_model()\n",
    "    L=degree_corrected_objective_function.calculate(degree_corrected_partition)\n",
    "    if L>best_objective:\n",
    "        best_objective=L\n",
    "        best_partition_standard_NPDC=degree_corrected_partition\n",
    "    # print(r,L,best_objective)"
   ]
  },
  {
   "cell_type": "code",
   "execution_count": null,
   "id": "e7c1bbe2-0dac-487a-a757-f0a0199a59fc",
   "metadata": {},
   "outputs": [],
   "source": [
    "def from_pysbm_partition(partition, nodes) -> np.ndarray:\n",
    "    '''\n",
    "    Builds one-hot encoded vector of dimension k=# groups\n",
    "    '''\n",
    "    communities = np.array([partition.get_block_of_node(node) for node in nodes])\n",
    "    N = len(communities)\n",
    "    K = len(np.unique(communities))\n",
    "    u = np.zeros((N,K))\n",
    "    for i,k in enumerate(communities):\n",
    "        u[i,k] = 1\n",
    "    assert np.all(u.sum(axis=1)==1)\n",
    "    return u\n",
    "\n",
    "u[algo] = from_pysbm_partition(degree_corrected_partition, data.nodes)"
   ]
  },
  {
   "cell_type": "code",
   "execution_count": null,
   "id": "6c76434b-75ed-4aee-85d9-0720a2d588b5",
   "metadata": {},
   "outputs": [],
   "source": [
    "communities = {\"u\": np.argmax(u[algo], axis=1)}\n",
    "_ = plot_hard_membership(data.graph_list[0], communities, position, node_size, colors, viz.edge_color)"
   ]
  },
  {
   "cell_type": "markdown",
   "id": "388c0add-173a-4a57-a899-ff7554ece929",
   "metadata": {
    "execution": {
     "iopub.execute_input": "2025-04-08T16:08:28.645102Z",
     "iopub.status.busy": "2025-04-08T16:08:28.644436Z",
     "iopub.status.idle": "2025-04-08T16:08:28.673778Z",
     "shell.execute_reply": "2025-04-08T16:08:28.673373Z",
     "shell.execute_reply.started": "2025-04-08T16:08:28.645045Z"
    }
   },
   "source": [
    "### 2.4 MTCOV\n",
    "\n",
    "We use a model contained in [`probinet`](https://mpi-is.github.io/probinet/index.html). For this, we need to setup the configuration."
   ]
  },
  {
   "cell_type": "code",
   "execution_count": null,
   "id": "5fe07ee6-7d4f-491a-89f4-bb73e5768850",
   "metadata": {},
   "outputs": [],
   "source": [
    "config_dict = {\n",
    "    \"assortative\": True,\n",
    "    \"end_file\": \"_mtcov\",\n",
    "    \"out_folder\": '../../../data/outdir/wto/',\n",
    "    \"out_inference\": True,\n",
    "    \"undirected\": True,\n",
    "    \"rseed\": 10\n",
    "}\n",
    "num_realizations = 20\n",
    "plot_loglik = True"
   ]
  },
  {
   "cell_type": "code",
   "execution_count": null,
   "id": "ce234ccd-e456-46c5-9a60-f987d64272ab",
   "metadata": {},
   "outputs": [],
   "source": [
    "model = MTCOV(num_realizations=num_realizations, plot_loglik=plot_loglik)\n",
    "\n",
    "X = np.copy(u['mt']) # we can choose what dummy covariate to give in input. Here we use the result of another algorithm, pick the one you like most\n",
    "# X = np.zeros((len(data.nodes), 4)) # uncomment this if you want to give dummy data\n",
    "data = data._replace(design_matrix=X)"
   ]
  },
  {
   "cell_type": "code",
   "execution_count": null,
   "id": "b9131db6-afed-4198-b417-e4fa1cacc3a0",
   "metadata": {},
   "outputs": [],
   "source": [
    "K = 8\n",
    "params = model.fit(data, K=K, gamma=0.5, rng=np.random.default_rng(config_dict[\"rseed\"]), **config_dict)\n"
   ]
  },
  {
   "cell_type": "code",
   "execution_count": null,
   "id": "acd5511a-b4eb-45e1-a34b-41356c23a667",
   "metadata": {},
   "outputs": [],
   "source": [
    "algo = 'mtcov'\n",
    "u[algo] = params[0]"
   ]
  },
  {
   "cell_type": "code",
   "execution_count": null,
   "id": "d53b36ef-231b-466d-8113-544bbb0d2841",
   "metadata": {},
   "outputs": [],
   "source": [
    "communities = {\"u\": np.argmax(u[algo], axis=1)}\n",
    "_ = plot_hard_membership(data.graph_list[0], communities, position, node_size, colors, viz.edge_color)"
   ]
  },
  {
   "cell_type": "markdown",
   "id": "16d8d5e0-42f9-4f52-abe2-59f8fcf363d1",
   "metadata": {},
   "source": [
    "## 3. Analyze results\n"
   ]
  },
  {
   "cell_type": "code",
   "execution_count": null,
   "id": "03de4a3f-93ca-459c-bcc8-f4ac7ae97189",
   "metadata": {},
   "outputs": [],
   "source": [
    "nodeLabel2Id = {k:i for i,k in enumerate(data.nodes)}\n",
    "nodeId2Label = {i:k for i,k in enumerate(data.nodes)}"
   ]
  },
  {
   "cell_type": "markdown",
   "id": "e1623043-3a34-4b99-b81d-1945992ee667",
   "metadata": {},
   "source": [
    "### 3.1 Communities"
   ]
  },
  {
   "cell_type": "code",
   "execution_count": null,
   "id": "b0ed416b-4274-4323-ae6c-cab88c07d794",
   "metadata": {},
   "outputs": [],
   "source": [
    "node_labels = {}\n",
    "for n,d in list(data.graph_list[0].degree()):\n",
    "    if d > 2: node_labels[n] = n\n",
    "        \n",
    "plt.figure(figsize=(16,10))\n",
    "L = len(u.keys())\n",
    "n_cols = 2\n",
    "n_rows = int(np.ceil(L / n_cols))\n",
    "\n",
    "for i, p in enumerate(u.keys()):\n",
    "    plt.subplot(n_rows,n_cols,i+1)\n",
    "    nx.draw_networkx_nodes(data.graph_list[0],position, node_size=node_size, node_color=get_node_colors(colors, u[p]))\n",
    "    nx.draw_networkx_labels(data.graph_list[0],position, font_size=8, alpha=0.8, labels=node_labels)\n",
    "    nx.draw_networkx_edges(data.graph_list[0],pos=position,width=0.1)\n",
    "    plt.title(p)\n",
    "    plt.axis('off')\n",
    "\n",
    "\n",
    "plt.show()"
   ]
  },
  {
   "cell_type": "markdown",
   "id": "02906902-b1dc-4fe2-b9d5-ab791ff5ec53",
   "metadata": {},
   "source": [
    "### 3.2 Adjacency matrices\n",
    "Sorted by argmax of each node"
   ]
  },
  {
   "cell_type": "code",
   "execution_count": null,
   "id": "5dca5aa7-ef50-46ec-acb6-da32c410219e",
   "metadata": {},
   "outputs": [],
   "source": [
    "f, axarr = plt.subplots(1, len(u.keys()),figsize=(18,6))\n",
    "\n",
    "for i,algo in enumerate(u.keys()):\n",
    "    node_order = tl.extract_node_order(u[algo])\n",
    "    viz.plot_matrix(Y,node_order=node_order,ax=axarr[i],title=f\"{algo}\",vmax = 1e-3,vmin=0)\n",
    "\n",
    "plt.tight_layout()"
   ]
  },
  {
   "cell_type": "markdown",
   "id": "74398c58-f7b8-4d4a-931a-183229783275",
   "metadata": {},
   "source": [
    "### 3.3 Focus on a specific partition and zoom in"
   ]
  },
  {
   "cell_type": "code",
   "execution_count": null,
   "id": "6151849b-a3ed-48a4-8585-05663b512673",
   "metadata": {},
   "outputs": [],
   "source": [
    "nodeLabel2size = {i:np.log(data.graph_list[0].degree[i]) * ms +200 for i in list(data.graph_list[0].nodes())}"
   ]
  },
  {
   "cell_type": "markdown",
   "id": "3140c0a5-02ea-4d48-a661-ada2b23a459f",
   "metadata": {
    "execution": {
     "iopub.execute_input": "2025-04-09T08:09:29.141860Z",
     "iopub.status.busy": "2025-04-09T08:09:29.141138Z",
     "iopub.status.idle": "2025-04-09T08:09:29.175877Z",
     "shell.execute_reply": "2025-04-09T08:09:29.174965Z",
     "shell.execute_reply.started": "2025-04-09T08:09:29.141796Z"
    }
   },
   "source": [
    "Play with the algorithm and reflect on how the different partitions compare.\n",
    "- What do they capture?\n",
    "- Are there patterns revealed by a praticular algorithm distinct from others?"
   ]
  },
  {
   "cell_type": "code",
   "execution_count": null,
   "id": "ad9d346b-7cd0-4a61-aeb5-e70844b0fccc",
   "metadata": {},
   "outputs": [],
   "source": [
    "algo = 'mtcov'\n",
    "communities = np.argmax(u[algo],axis=1)"
   ]
  },
  {
   "cell_type": "code",
   "execution_count": null,
   "id": "5a76883d-8b89-4b2e-936b-fdb3debc9d7f",
   "metadata": {},
   "outputs": [],
   "source": [
    "from probinet.visualization.plot import extract_bridge_properties"
   ]
  },
  {
   "cell_type": "code",
   "execution_count": null,
   "id": "66f0f10f-73d0-4c45-a32a-1c38e23c5e4d",
   "metadata": {},
   "outputs": [],
   "source": [
    "plt.figure(figsize=(14,10))\n",
    "K = u[algo].shape[-1]\n",
    "n_cols = 4 \n",
    "n_rows = int(np.ceil(K / n_cols))\n",
    "for i, k in enumerate(np.arange(u[algo].shape[-1])):\n",
    "    community = np.where(communities==k)[0]\n",
    "    H = data.graph_list[0].subgraph([nodeId2Label[n] for n in community])\n",
    "    c = colors[i]\n",
    "    p = nx.spring_layout(H, iterations=100,k=0.1)\n",
    "    ns = [nodeLabel2size[n] for n in H.nodes()]\n",
    "    plt.subplot(n_rows,n_cols,i+1)\n",
    "    nx.draw_networkx_edges(H,pos=p, width=0.1)\n",
    "    nx.draw_networkx_labels(H,pos=p, font_size=8, alpha=0.8)\n",
    "    if algo in ['mt','mtcov']:\n",
    "        ax = plt.gca()\n",
    "        for j, n in enumerate(H.nodes()):\n",
    "            wedge_sizes, wedge_colors = extract_bridge_properties(j, colors, u[algo][communities==k])\n",
    "            if len(wedge_sizes) > 0:\n",
    "                _ = plt.pie(\n",
    "                    wedge_sizes,\n",
    "                    center=p[n],\n",
    "                    colors=wedge_colors,\n",
    "                    radius=(ns[j]) * 0.0003\n",
    "                )\n",
    "                ax.axis(\"equal\")\n",
    "    else:\n",
    "        nx.draw_networkx_nodes(H,pos=p, node_size=ns, node_color=c)\n",
    "        \n",
    "    \n",
    "    plt.title(k)\n",
    "    plt.axis('off')\n",
    "plt.tight_layout()\n"
   ]
  },
  {
   "cell_type": "markdown",
   "id": "439921c7-8a36-4afc-af28-171bca834dba",
   "metadata": {},
   "source": [
    "### 3.4 Alternative way to visualize communities"
   ]
  },
  {
   "cell_type": "code",
   "execution_count": null,
   "id": "31a9e7d5-1e15-4388-a201-62bd41f6da73",
   "metadata": {},
   "outputs": [],
   "source": [
    "L = len(u.keys())\n",
    "ref_algo = 'mt'\n",
    "node_order = tl.extract_node_order(u[ref_algo])\n",
    "y_labels = [nodeId2Label[i] for i in node_order]\n",
    "y_ticks = np.arange(len(node_order))\n",
    "\n",
    "f, axarr = plt.subplots(1, L,figsize=(12,10), sharey=True)\n",
    "\n",
    "for i, a in enumerate(u.keys()):\n",
    "    axarr[i].imshow(u[a][node_order],aspect='auto',vmax=1, cmap='Blues' )\n",
    "    axarr[i].set_title(f\"{a}\")\n",
    "    axarr[i].set_xlabel('Community')\n",
    "\n",
    "axarr[0].set_yticklabels(y_labels,fontsize=10)\n",
    "axarr[0].set_yticks(y_ticks)\n",
    "# plt.show()\n",
    "plt.tight_layout()"
   ]
  },
  {
   "cell_type": "code",
   "execution_count": null,
   "id": "8d02b625-ebde-4cab-9a61-e4c5d2392156",
   "metadata": {},
   "outputs": [],
   "source": [
    "algo = 'mt'\n",
    "plot_labels = True\n",
    "filename0 = f'WTO_network_communities_{algo}_{plot_labels}'\n",
    "\n",
    "ms = 100\n",
    "ns = [np.log(graph.degree[i]) * ms + 150 for i in data.nodes]\n",
    "\n",
    "node_labels = {}\n",
    "for n,d in list(data.graph_list[0].degree()):\n",
    "    if d > 1: node_labels[n] = n\n",
    "        \n",
    "plt.figure(figsize=(12,10))\n",
    "\n",
    "# nx.draw_networkx_nodes(data.graph_list[0],position, node_size=node_size, node_color=default_colors['blue'], edgecolors=default_colors['dark_grey'])\n",
    "\n",
    "nx.draw_networkx_edges(data.graph_list[0],pos=position,width=0.1)\n",
    "if algo in ['mt','mtcov']:\n",
    "    ax = plt.gca()\n",
    "    for j, n in enumerate(data.graph_list[0].nodes()):\n",
    "        wedge_sizes, wedge_colors = extract_bridge_properties(j, colors, normalize_nonzero_membership(u[algo]))\n",
    "        if len(wedge_sizes) > 0:\n",
    "            _ = plt.pie(\n",
    "                wedge_sizes,\n",
    "                center=position[n],\n",
    "                colors=wedge_colors,\n",
    "                radius=(ns[j]) * 0.0001, \n",
    "                wedgeprops=dict(edgecolor=viz.default_colors_dict['dark_grey'])\n",
    "            )\n",
    "            ax.axis(\"equal\")\n",
    "        else:\n",
    "            print(j,n,u[algo][j])\n",
    "else:\n",
    "    nx.draw_networkx_nodes(data.graph_list[0],position, node_size=node_size, node_color=tl.get_node_colors(colors, u[p]), edgecolors=viz.default_colors_dict['dark_grey'])\n",
    "if plot_labels == True:\n",
    "    nx.draw_networkx_labels(data.graph_list[0],position, font_size=14, alpha=0.8, labels=node_labels)\n",
    "            \n",
    "# plt.title(p)\n",
    "plt.axis('off')\n",
    "\n",
    "plt.tight_layout()\n",
    "\n",
    "filename = tl.get_filename(filename0,lecture_id=lecture_id)\n",
    "outdir = \"../figures/\"\n",
    "tl.savefig(plt,outfile = filename,outdir = outdir)\n",
    "\n",
    "# plt.show()"
   ]
  },
  {
   "cell_type": "markdown",
   "id": "1810e15a-4aaa-4857-8829-6801e1a2500f",
   "metadata": {},
   "source": [
    "# Appendix"
   ]
  },
  {
   "cell_type": "markdown",
   "id": "23b0a076-a1cb-4da0-b3ad-4e2ef16bffb4",
   "metadata": {},
   "source": [
    "## Toy model example"
   ]
  },
  {
   "cell_type": "code",
   "execution_count": null,
   "id": "40d29e22-9e2a-41d8-a396-b5e447cb2728",
   "metadata": {},
   "outputs": [],
   "source": [
    "from math import comb\n",
    "import seaborn as sns\n",
    "\n",
    "def calculate_loglikelihood_sbm(N: np.ndarray, M: np.ndarray)->dict:\n",
    "\n",
    "    n_groups = len(N)\n",
    "    N_rs = np.outer(N,N)\n",
    "    for i in range(n_groups):\n",
    "        N_rs[i,i] = comb(N[i],2)\n",
    "    C = M / N_rs\n",
    "    assert np.all(C<=1)\n",
    "    assert np.all(C>=0)\n",
    "    assert np.all(N_rs>=M)\n",
    "    p = 1\n",
    "    for r in np.arange(n_groups):\n",
    "        p *= (np.power(C[r,r],M[r,r])) * (np.power(1-C[r,r],N_rs[r,r] - M[r,r]))\n",
    "        for s in np.arange(r,n_groups):\n",
    "            if s != r:\n",
    "                p *= (np.power(C[r,s],M[r,s])) * (np.power(1-C[r,s],N_rs[r,s] - M[r,s]))\n",
    "    return {'N_rs':N_rs, 'p':p,'C':C, 'logp':np.log(p)}"
   ]
  },
  {
   "cell_type": "code",
   "execution_count": null,
   "id": "5f297d4b-bf81-463c-867e-a7be1ece6460",
   "metadata": {},
   "outputs": [],
   "source": [
    "# Left example\n",
    "N = np.array([4,2])\n",
    "K = N.shape[0]\n",
    "M = 2 * np.ones([K,K])\n",
    "np.fill_diagonal(M, [4,1])\n",
    "\n",
    "# Right example\n",
    "# N = np.array([3,3])\n",
    "# K = N.shape[0]\n",
    "# M = 1 * np.ones([K,K])\n",
    "# np.fill_diagonal(M, [3,3])\n",
    "\n",
    "print(M)\n",
    "res = calculate_loglikelihood_sbm(N,M)\n",
    "res"
   ]
  },
  {
   "cell_type": "code",
   "execution_count": null,
   "id": "064be07d-8a2d-4d0d-8d07-83eac8fc3573",
   "metadata": {},
   "outputs": [],
   "source": [
    "plt.figure(figsize=(4,4))\n",
    "sns.heatmap(res['C'],cmap='Blues')"
   ]
  },
  {
   "cell_type": "code",
   "execution_count": null,
   "id": "71d9d4c8-dd7f-4b3d-a2e5-656d2e3fd841",
   "metadata": {},
   "outputs": [],
   "source": [
    "np.exp(-8.318),np.exp(-3.139)"
   ]
  },
  {
   "cell_type": "code",
   "execution_count": null,
   "id": "842aa265-fc8c-481e-bdb1-7aaee7fa5862",
   "metadata": {},
   "outputs": [],
   "source": []
  }
 ],
 "metadata": {
  "kernelspec": {
   "display_name": "Python 3 (ipykernel)",
   "language": "python",
   "name": "python3"
  },
  "language_info": {
   "codemirror_mode": {
    "name": "ipython",
    "version": 3
   },
   "file_extension": ".py",
   "mimetype": "text/x-python",
   "name": "python",
   "nbconvert_exporter": "python",
   "pygments_lexer": "ipython3",
   "version": "3.10.11"
  }
 },
 "nbformat": 4,
 "nbformat_minor": 5
}
